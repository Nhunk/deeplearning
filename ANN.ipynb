{
 "cells": [
  {
   "cell_type": "markdown",
   "id": "9ec3c98b",
   "metadata": {},
   "source": [
    "ANN: supervised\n",
    "\n",
    "Mô hình FeedForward Network, No FeedBack\n",
    "\n",
    "Ghép nhiều perceptron hay mạng đa lớp perceptron"
   ]
  },
  {
   "cell_type": "code",
   "execution_count": 5,
   "id": "0877c66f",
   "metadata": {},
   "outputs": [],
   "source": [
    "import torch\n",
    "import math\n"
   ]
  },
  {
   "cell_type": "code",
   "execution_count": 7,
   "id": "be2cfec2",
   "metadata": {},
   "outputs": [
    {
     "name": "stdout",
     "output_type": "stream",
     "text": [
      "Input: tensor([ 0.5000, -0.2000])\n",
      "Z1 (xW1 + b1): tensor([ 0.2681, -0.2703, -1.7667,  0.2986])\n",
      "A1 (tanh): tensor([ 0.2619, -0.2639, -0.9432,  0.2901])\n",
      "Z2 (a1W2 + b2): tensor([0.7042, 0.9227])\n",
      "A2 (sigmoid): tensor([0.6691, 0.7156])\n"
     ]
    }
   ],
   "source": [
    "\n",
    "# Kích thước mạng\n",
    "input_size = 2\n",
    "hidden_size = 4\n",
    "output_size = 2\n",
    "\n",
    "# Hàm kích hoạt\n",
    "def tanh(x):\n",
    "    return torch.tanh(x)\n",
    "\n",
    "def sigmoid(x):\n",
    "    return 1 / (1 + torch.exp(-x))\n",
    "\n",
    "# Tạo trọng số và bias ngẫu nhiên\n",
    "torch.manual_seed(0)  # để tái lập kết quả\n",
    "W1 = torch.randn(input_size, hidden_size)   # (2, 4)\n",
    "b1 = torch.randn(hidden_size)               # (4,)\n",
    "W2 = torch.randn(hidden_size, output_size)  # (4, 2)\n",
    "b2 = torch.randn(output_size)               # (2,)\n",
    "\n",
    "# Input mẫu\n",
    "x = torch.tensor([0.5, -0.2])  # (2,)\n",
    "\n",
    "# Hidden layer\n",
    "z1 = torch.matmul(x, W1) + b1     # (4,) = (2,) x (2x4) + (4,)\n",
    "a1 = tanh(z1)                     # (4,)\n",
    "\n",
    "# Output layer\n",
    "z2 = torch.matmul(a1, W2) + b2    # (2,) = (4,) x (4x2) + (2,)\n",
    "a2 = sigmoid(z2)                  # (2,)\n",
    "\n",
    "# In kết quả từng bước\n",
    "print(\"Input:\", x)\n",
    "print(\"Z1 (xW1 + b1):\", z1)\n",
    "print(\"A1 (tanh):\", a1)\n",
    "print(\"Z2 (a1W2 + b2):\", z2)\n",
    "print(\"A2 (sigmoid):\", a2)\n"
   ]
  },
  {
   "cell_type": "code",
   "execution_count": 4,
   "id": "f08c1e15",
   "metadata": {},
   "outputs": [
    {
     "name": "stdout",
     "output_type": "stream",
     "text": [
      "Input: tensor([ 0.5000, -0.2000])\n",
      "Z1 (xW1 + b1): tensor([ 0.2681, -0.2703, -1.7667,  0.2986])\n",
      "A1 (tanh): tensor([ 0.2619, -0.2639, -0.9432,  0.2901])\n",
      "Z2 (a1W2 + b2): tensor([0.7042, 0.9227])\n",
      "A2 (sigmoid): tensor([0.6691, 0.7156])\n"
     ]
    },
    {
     "name": "stderr",
     "output_type": "stream",
     "text": [
      "C:\\Users\\OS\\AppData\\Local\\Temp\\ipykernel_17708\\1625773255.py:11: DeprecationWarning: __array_wrap__ must accept context and return_scalar arguments (positionally) in the future. (Deprecated NumPy 2.0)\n",
      "  return (np.exp(x)-np.exp(-x))/(np.exp(x)+np.exp(-x))\n",
      "C:\\Users\\OS\\AppData\\Local\\Temp\\ipykernel_17708\\1625773255.py:3: DeprecationWarning: __array_wrap__ must accept context and return_scalar arguments (positionally) in the future. (Deprecated NumPy 2.0)\n",
      "  return 1/(1+np.exp(-x))\n"
     ]
    }
   ],
   "source": [
    "\n",
    "# Kích thước mạng\n",
    "input_size = 2\n",
    "hidden_size = 4\n",
    "output_size = 2\n",
    "\n",
    "# Tạo trọng số và bias ngẫu nhiên\n",
    "torch.manual_seed(0)  # để tái lập kết quả\n",
    "W1 = torch.randn(input_size, hidden_size)   # (2, 4)\n",
    "b1 = torch.randn(hidden_size)               # (4,)\n",
    "W2 = torch.randn(hidden_size, output_size)  # (4, 2)\n",
    "b2 = torch.randn(output_size)               # (2,)\n",
    "\n",
    "# Input mẫu\n",
    "x = torch.tensor([0.5, -0.2])  # (2,)\n",
    "\n",
    "# Tính toán forward pass\n",
    "\n",
    "# Hidden layer\n",
    "z1 = torch.matmul(x, W1) + b1     # (4,) = (2,) x (2x4) + (4,)\n",
    "a1 = tanh(z1)                     # (4,)\n",
    "\n",
    "# Output layer\n",
    "z2 = torch.matmul(a1, W2) + b2    # (2,) = (4,) x (4x2) + (2,)\n",
    "a2 = sigmoid(z2)                  # (2,)\n",
    "\n",
    "# In kết quả từng bước\n",
    "print(\"Input:\", x)\n",
    "print(\"Z1 (xW1 + b1):\", z1)\n",
    "print(\"A1 (tanh):\", a1)\n",
    "print(\"Z2 (a1W2 + b2):\", z2)\n",
    "print(\"A2 (sigmoid):\", a2)\n"
   ]
  },
  {
   "cell_type": "markdown",
   "id": "60ea4feb",
   "metadata": {},
   "source": []
  },
  {
   "cell_type": "code",
   "execution_count": null,
   "id": "b0df3db0",
   "metadata": {},
   "outputs": [
    {
     "name": "stdout",
     "output_type": "stream",
     "text": [
      "[1.06466696 2.15480078]\n",
      "[[1 1 2]\n",
      " [1 2 0]]\n",
      "[1 1 1]\n",
      "[4 3]\n",
      "[4 3]\n"
     ]
    }
   ],
   "source": []
  },
  {
   "cell_type": "code",
   "execution_count": null,
   "id": "949e27b0",
   "metadata": {},
   "outputs": [],
   "source": []
  }
 ],
 "metadata": {
  "kernelspec": {
   "display_name": "Python 3",
   "language": "python",
   "name": "python3"
  },
  "language_info": {
   "codemirror_mode": {
    "name": "ipython",
    "version": 3
   },
   "file_extension": ".py",
   "mimetype": "text/x-python",
   "name": "python",
   "nbconvert_exporter": "python",
   "pygments_lexer": "ipython3",
   "version": "3.13.2"
  }
 },
 "nbformat": 4,
 "nbformat_minor": 5
}
