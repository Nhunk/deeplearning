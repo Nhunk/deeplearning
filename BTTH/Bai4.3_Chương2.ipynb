{
 "cells": [
  {
   "attachments": {
    "image.png": {
     "image/png": "[encoded data removed]"
    }
   },
   "cell_type": "markdown",
   "id": "227f3b7b",
   "metadata": {},
   "source": [
    "![image.png](attachment:image.png)"
   ]
  },
  {
   "cell_type": "code",
   "execution_count": 22,
   "id": "fbf54927",
   "metadata": {},
   "outputs": [],
   "source": [
    "import numpy as np\n",
    "import matplotlib.pyplot as plt"
   ]
  },
  {
   "cell_type": "code",
   "execution_count": null,
   "id": "cf7ab715",
   "metadata": {},
   "outputs": [],
   "source": []
  },
  {
   "cell_type": "code",
   "execution_count": null,
   "id": "fdbab9e6",
   "metadata": {},
   "outputs": [
    {
     "ename": "AttributeError",
     "evalue": "'myann4_3' object has no attribute 'a1'",
     "output_type": "error",
     "traceback": [
      "\u001b[31m---------------------------------------------------------------------------\u001b[39m",
      "\u001b[31mAttributeError\u001b[39m                            Traceback (most recent call last)",
      "\u001b[36mCell\u001b[39m\u001b[36m \u001b[39m\u001b[32mIn[21]\u001b[39m\u001b[32m, line 43\u001b[39m\n\u001b[32m     40\u001b[39m                 \u001b[38;5;28mself\u001b[39m.w1 -= lr * GD1\n\u001b[32m     42\u001b[39m ann = myann4_3(\u001b[32m2\u001b[39m, \u001b[32m5\u001b[39m, \u001b[32m1\u001b[39m)\n\u001b[32m---> \u001b[39m\u001b[32m43\u001b[39m \u001b[43mann\u001b[49m\u001b[43m.\u001b[49m\u001b[43mtrain\u001b[49m\u001b[43m(\u001b[49m\u001b[43mX\u001b[49m\u001b[43m,\u001b[49m\u001b[43m \u001b[49m\u001b[43mt\u001b[49m\u001b[43m,\u001b[49m\u001b[43m \u001b[49m\u001b[32;43m2\u001b[39;49m\u001b[43m)\u001b[49m\n",
      "\u001b[36mCell\u001b[39m\u001b[36m \u001b[39m\u001b[32mIn[21]\u001b[39m\u001b[32m, line 37\u001b[39m, in \u001b[36mmyann4_3.train\u001b[39m\u001b[34m(self, X, t, epoch)\u001b[39m\n\u001b[32m     34\u001b[39m \u001b[38;5;28mself\u001b[39m.w2 =\u001b[38;5;28mself\u001b[39m.w2 - lr * GD2\n\u001b[32m     36\u001b[39m D1_temp = D2 @ \u001b[38;5;28mself\u001b[39m.w2\n\u001b[32m---> \u001b[39m\u001b[32m37\u001b[39m d_z1 = \u001b[32m1\u001b[39m - np.tanh(\u001b[38;5;28;43mself\u001b[39;49m\u001b[43m.\u001b[49m\u001b[43ma1\u001b[49m) ** \u001b[32m2\u001b[39m\n\u001b[32m     38\u001b[39m D1 = D1_temp * d_z1\n\u001b[32m     39\u001b[39m GD1 = D1.reshape(-\u001b[32m1\u001b[39m, \u001b[32m1\u001b[39m) @ \u001b[38;5;28mself\u001b[39m.x1.reshape(\u001b[32m1\u001b[39m, -\u001b[32m1\u001b[39m)\n",
      "\u001b[31mAttributeError\u001b[39m: 'myann4_3' object has no attribute 'a1'"
     ]
    }
   ],
   "source": [
    "class myann4_3:\n",
    "    def __init__(self, inum, hidnum, onum):\n",
    "        self.w1 = np.random.random((hidnum, inum + 1)) - .5\n",
    "        self.w2 = np.random.random((onum, hidnum + 1)) - .5\n",
    "\n",
    "    def feedforward(self, X):\n",
    "        x1 = np.hstack((X, np.array([1])))\n",
    "        self.x1 = x1\n",
    "        a1 = self.w1 @ x1\n",
    "        z1 = np.tanh(a1)\n",
    "\n",
    "        z1 = np.hstack((z1, np.array([1])))\n",
    "        self.z1 = z1\n",
    "\n",
    "        a2 = self.w2 @ z1\n",
    "        self.a2 = a2\n",
    "        z2 = np.tanh(a2)\n",
    "        return z2\n",
    "    \n",
    "    def train(self, X, t, epoch):\n",
    "        lr = 0.2\n",
    "        for _ in range(epoch):\n",
    "            for i in range(X.shape[0]):\n",
    "                input = X[i]\n",
    "                y = self.feedforward(input)\n",
    "                D2 = y - t[i]\n",
    "                GD2 = (np.array([D2])).T @ (np.array([self.z1]))\n",
    "                self.w2 =self.w2 - lr * GD2\n",
    "\n",
    "                D1_temp = D2 @ self.w2\n",
    "                d_z1 = 1 - np.tanh(self.a1) ** 2\n",
    "                D1 = D1_temp * d_z1\n",
    "                GD1 = D1.reshape(-1, 1) @ self.x1.reshape(1, -1)\n",
    "                self.w1 -= lr * GD1\n",
    "\n",
    "ann = myann4_3(2, 5, 1)\n",
    "ann.train(X, t, 2000)\n"
   ]
  },
  {
   "cell_type": "code",
   "execution_count": null,
   "id": "cfee85b2",
   "metadata": {},
   "outputs": [],
   "source": [
    "# Vẽ đồ thị phân loại 2D\n",
    "plt.figure()\n",
    "for x1 in np.arange(-5, 5, 0.2):\n",
    "    for x2 in np.arange(-5, 5, 0.2):\n",
    "        x = np.array([x1, x2])\n",
    "        out = ann.feedword(x)\n",
    "        label = np.argmin(np.abs(np.array([0, 1, 2])-out)))  # Nhãn dự đoán\n",
    "        plt.plot(x1, x2, color[label] + '.', markersize=5)  # Vẽ điểm dự đoán\n",
    "\n",
    "# Vẽ các điểm huấn luyện\n",
    "for i in range(X.shape[0]):\n",
    "    plt.plot(X[i, 0], X[i, 1], color[t[i]] + 'o', markersize=10)  # Vẽ các điểm huấn luyện\n",
    "\n",
    "plt.title('Perceptron Phi Tuyến')\n",
    "plt.show()"
   ]
  }
 ],
 "metadata": {
  "kernelspec": {
   "display_name": "Python 3",
   "language": "python",
   "name": "python3"
  },
  "language_info": {
   "codemirror_mode": {
    "name": "ipython",
    "version": 3
   },
   "file_extension": ".py",
   "mimetype": "text/x-python",
   "name": "python",
   "nbconvert_exporter": "python",
   "pygments_lexer": "ipython3",
   "version": "3.13.2"
  }
 },
 "nbformat": 4,
 "nbformat_minor": 5
}
