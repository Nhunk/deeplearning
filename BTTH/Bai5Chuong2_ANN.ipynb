{
 "cells": [
  {
   "cell_type": "markdown",
   "id": "3e03ad73",
   "metadata": {},
   "source": [
    "5/Tìm hiểu chương trình ANN có sẵn thực hiện hồi qui : (trực tiếp)\n",
    "\n",
    "5.1\tDự đoán giá nhà ở Boston\n",
    "https://colab.research.google.com/github/lexfridman/mit-deep-learning/blob/master/tutorial_deep_learning_basics/deep_learning_basics.ipynb#scrollTo=99ysUIsLITEa\n",
    "\n",
    "5.2\tDự đoán giá nhà, có giải thích\n",
    "https://www.freecodecamp.org/news/how-to-build-your-first-neural-network-to-predict-house-prices-with-keras-f8db83049159/ \n",
    "\n",
    "5.3\tHuấn luyện ANN vẽ logo https://colab.research.google.com/github/mohammedterry/ANNs/blob/master/ML_ANN.ipynb \n"
   ]
  }
 ],
 "metadata": {
  "kernelspec": {
   "display_name": "Python 3",
   "language": "python",
   "name": "python3"
  },
  "language_info": {
   "name": "python",
   "version": "3.13.2"
  }
 },
 "nbformat": 4,
 "nbformat_minor": 5
}
