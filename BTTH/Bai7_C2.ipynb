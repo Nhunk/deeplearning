{
 "cells": [
  {
   "cell_type": "markdown",
   "id": "89be07d3",
   "metadata": {},
   "source": [
    "7/ Huấn luyện mạng ANN phân loại cho bài 2 chương 1. (Sử dụng các chương trình tham khảo ở bài 4, bài 5). Đánh giá độ chính xác."
   ]
  },
  {
   "cell_type": "code",
   "execution_count": null,
   "id": "654b1fbb",
   "metadata": {},
   "outputs": [],
   "source": []
  }
 ],
 "metadata": {
  "language_info": {
   "name": "python"
  }
 },
 "nbformat": 4,
 "nbformat_minor": 5
}
