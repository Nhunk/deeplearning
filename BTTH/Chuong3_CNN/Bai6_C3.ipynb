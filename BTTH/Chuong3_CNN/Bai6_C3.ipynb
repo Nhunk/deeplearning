{
 "cells": [
  {
   "cell_type": "markdown",
   "id": "102fa3dd",
   "metadata": {},
   "source": [
    "Bài 6 : Hãy tìm 1 tool/program/software dùng để thực hiện image labeling dành cho object detection và image segmentation.\n",
    "\n",
    "\tTìm hiểu một số loại công cụ liên quan đến chuẩn bị dữ liệu, đây là công đoạn rất cần thiết nếu muốn tạo ra model với dữ liệu của riêng mình.\n"
   ]
  },
  {
   "cell_type": "code",
   "execution_count": null,
   "id": "14e248c5",
   "metadata": {},
   "outputs": [],
   "source": []
  }
 ],
 "metadata": {
  "language_info": {
   "name": "python"
  }
 },
 "nbformat": 4,
 "nbformat_minor": 5
}
